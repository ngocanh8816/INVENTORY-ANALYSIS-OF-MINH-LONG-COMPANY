{
  "nbformat": 4,
  "nbformat_minor": 0,
  "metadata": {
    "colab": {
      "provenance": []
    },
    "kernelspec": {
      "name": "python3",
      "display_name": "Python 3"
    },
    "language_info": {
      "name": "python"
    }
  },
  "cells": [
    {
      "cell_type": "markdown",
      "source": [
        "# **DATA PROCESSING**"
      ],
      "metadata": {
        "id": "M7h0tyQJvQOj"
      }
    },
    {
      "cell_type": "markdown",
      "source": [
        "**INSTALL THE NECESSARY LIBRARIES**"
      ],
      "metadata": {
        "id": "BUYglawRvZ4X"
      }
    },
    {
      "cell_type": "code",
      "source": [
        "import pandas as pd\n",
        "import numpy as np\n",
        "from collections import Counter"
      ],
      "metadata": {
        "id": "lOPteGrYvPtM"
      },
      "execution_count": null,
      "outputs": []
    },
    {
      "cell_type": "markdown",
      "source": [
        "**PROCESS THE DATA**"
      ],
      "metadata": {
        "id": "-mlsy6WavhWz"
      }
    },
    {
      "cell_type": "code",
      "source": [
        "# Xử lý df_product\n",
        "df_product = (\n",
        "    pd.read_csv('Product.csv', encoding='ISO-8859-1', header=None)\n",
        "    .drop(index=[0, 1])\n",
        "    .reset_index(drop=True)\n",
        ")\n",
        "df_product.columns = df_product.iloc[0]\n",
        "df_product = (\n",
        "    df_product[1:]\n",
        "    .rename(columns={'Code': 'Model code'})\n",
        "    .iloc[:, 1:10]\n",
        "    .drop(columns=['Full designation', 'Nick designation', 'Quantity'])  # Xóa cột Quantity\n",
        "    .replace({'Vi?t Nam': 'Vietnam','GearBox':'Gearbox'})\n",
        ")\n",
        "\n",
        "# Xử lý df_import\n",
        "df_import = (\n",
        "    pd.read_csv('Import.csv', encoding='ISO-8859-1')\n",
        "    .rename(columns={\n",
        "        'Ngày nhập': 'Import date',\n",
        "        ' Main S/N': 'Main S/N',\n",
        "        'Tên pallet': 'Pallet'\n",
        "    })\n",
        "    .drop(columns=['STT', 'PO', 'Ngày xuất', 'Position', 'Model', 'Second S/N', 'COC', 'Status', 'NOTE'])\n",
        "    .replace({\n",
        "        'Vãn ph?ng': 'Văn phòng',\n",
        "        '? Ngoài': 'Ở ngoài'\n",
        "    })\n",
        "    .assign(\n",
        "        Import_date=lambda x: pd.to_datetime('1899-12-30') + pd.to_timedelta(x['Import date'], unit='D')\n",
        "    )\n",
        "    .reset_index(drop=True)\n",
        ")\n",
        "df_import.index += 1\n",
        "df_import.drop(columns=['Import date'], inplace=True)\n",
        "\n",
        "# Xử lý df_export\n",
        "df_export = (\n",
        "    pd.read_csv('Export.csv', encoding='ISO-8859-1')\n",
        "    .dropna(subset=['STT'])\n",
        "    .rename(columns={\n",
        "        'Phiếu xuất kho': 'Export ID',\n",
        "        'Ngày xuất kho': 'Export date',\n",
        "        'Khách hàng': 'Customer',\n",
        "        'Mã sản phẩm': 'Model code',\n",
        "        'Tên pallet': 'Pallet',\n",
        "        'S/N': 'Main S/N'\n",
        "    })\n",
        "    .drop(columns=['STT', 'Hợp đồng (PO)', 'Tên sản phẩm', 'Ngày hết hạn bảo hành', 'Status', 'Ghi chú'])\n",
        ")\n",
        "\n",
        "df_export['Export date'] = pd.to_datetime(df_export['Export date'])\n",
        "#Check null\n",
        "#df_product.isnull().sum() #Type 6, Manufactory 61, Origin 42\n",
        "#df_import.isnull().sum() #Main S/N 810\n",
        "#df_export.isnull().sum() #Model code 34, Main S/N 5, Pallet 34\n",
        "\n",
        "# Xử lý giá trị thiếu cho df_product\n",
        "## Điền giá trị thiếu cho cột Type\n",
        "type_dict = df_product.groupby('General name')['Type'].apply(lambda x: x.mode().iloc[0] if not x.mode().empty else None).to_dict()\n",
        "\n",
        "def fill_type(row):\n",
        "    if pd.isna(row['Type']):\n",
        "        general_name = row['General name']\n",
        "        size_first_letter = row['Size'][0]\n",
        "        same_general_name = df_product[df_product['General name'] == general_name]\n",
        "        same_size_letter = same_general_name[same_general_name['Size'].str.startswith(size_first_letter)]\n",
        "        if same_size_letter.empty:\n",
        "            return type_dict.get(general_name, None)\n",
        "        elif same_size_letter['Type'].isna().all():\n",
        "            type_counts = Counter(same_general_name['Type'].dropna())\n",
        "            for type_name, _ in type_counts.most_common():\n",
        "                if type_name not in same_size_letter['Type'].values:\n",
        "                    return type_name\n",
        "        else:\n",
        "            return same_size_letter['Type'].mode().iloc[0]\n",
        "    return row['Type']\n",
        "\n",
        "df_product['Type'] = df_product.apply(fill_type, axis=1)\n",
        "\n",
        "## Điền giá trị thiếu cho cột Manufactory\n",
        "def fill_manufactory(row):\n",
        "    if pd.isna(row['Manufactory']):\n",
        "        same_general_type = df_product[(df_product['General name'] == row['General name']) & (df_product['Type'] == row['Type'])]\n",
        "        same_size_initial = same_general_type[same_general_type['Size'].str.startswith(row['Size'][0])]\n",
        "        if not same_size_initial['Manufactory'].isna().all():\n",
        "            return same_size_initial['Manufactory'].dropna().iloc[0]\n",
        "        manufactory_counts = same_general_type['Manufactory'].value_counts(normalize=True)\n",
        "        if not manufactory_counts.empty:\n",
        "            return manufactory_counts.idxmax()\n",
        "        same_general = df_product[df_product['General name'] == row['General name']]\n",
        "        manufactory_counts_general = same_general['Manufactory'].value_counts(normalize=True)\n",
        "        if not manufactory_counts_general.empty:\n",
        "            return manufactory_counts_general.idxmax()\n",
        "        return 'Unknown'\n",
        "    return row['Manufactory']\n",
        "\n",
        "df_product['Manufactory'] = df_product.apply(fill_manufactory, axis=1)\n",
        "\n",
        "## Điền giá trị thiếu cho cột Origin\n",
        "origin_counts = df_product['Origin'].value_counts()\n",
        "total_count = len(df_product)\n",
        "missing_count = df_product['Origin'].isna().sum()\n",
        "fill_counts = (origin_counts / total_count * missing_count).round().astype(int)\n",
        "\n",
        "while fill_counts.sum() != missing_count:\n",
        "    diff = missing_count - fill_counts.sum()\n",
        "    if diff > 0:\n",
        "        fill_counts[fill_counts.idxmax()] += 1\n",
        "    else:\n",
        "        fill_counts[fill_counts.idxmin()] -= 1\n",
        "\n",
        "fill_values = [origin for origin, count in fill_counts.items() for _ in range(count)]\n",
        "missing_indices = df_product[df_product['Origin'].isna()].index\n",
        "df_product.loc[missing_indices, 'Origin'] = fill_values\n",
        "\n",
        "# Xử lý giá trị thiếu cho df_import\n",
        "temp_counter = df_import['Model code'].value_counts().to_dict()\n",
        "\n",
        "def generate_temp_sn(row):\n",
        "    if pd.isna(row['Main S/N']):\n",
        "        model_code = row['Model code']\n",
        "        temp_counter[model_code] += 1\n",
        "        return f\"{model_code}_TEMP_{temp_counter[model_code]}\"\n",
        "    else:\n",
        "        return row['Main S/N']\n",
        "\n",
        "df_import['Main S/N'] = df_import.apply(generate_temp_sn, axis=1)\n",
        "\n",
        "# Xử lý giá trị thiếu cho df_export\n",
        "df_export.dropna(subset=['Main S/N', 'Model code', 'Pallet'], inplace=True)\n",
        "df_export.drop_duplicates(inplace=True)"
      ],
      "metadata": {
        "id": "fqLmWIbyvgrt"
      },
      "execution_count": null,
      "outputs": []
    },
    {
      "cell_type": "markdown",
      "source": [
        "# **PERFORM CALCULATIONS WITH CLEAN DATA**"
      ],
      "metadata": {
        "id": "6RRkUeFwvzGP"
      }
    },
    {
      "cell_type": "markdown",
      "source": [
        "**CALCULATE THE NUMBER OF PALLETS USED MONTHLY AS A BASIS FOR CALCULATING STORAGE COSTS**"
      ],
      "metadata": {
        "id": "iiLwMofev76T"
      }
    },
    {
      "cell_type": "code",
      "source": [
        "## Đổi tên cột\n",
        "df_export.rename(columns={\n",
        "    'Export date' : 'Month'\n",
        "},inplace=True)\n",
        "\n",
        "df_import.rename(columns={\n",
        "    'Import date' : 'Month'\n",
        "},inplace=True)\n",
        "\n",
        "## Đặt lại kiểu định dạng thời gian và lọc dữ liệu cần thiết\n",
        "df_import['Month'] = pd.to_datetime(df_import['Month'], format='%Y-%m')\n",
        "df_export['Month'] = pd.to_datetime(df_export['Month'], format='%Y-%m')\n",
        "df_import['Month'] = df_import['Month'].dt.to_period('M')\n",
        "df_export['Month'] = df_export['Month'].dt.to_period('M')\n",
        "\n",
        "df_export = df_export[(df_export['Pallet'] !='Văn phòng')]\n",
        "df_export = df_export[(df_export['Pallet'] !='Ở Ngoài')]\n",
        "\n",
        "## Tạo bảng tạm thời chứa Pallet, Model code và Month\n",
        "temp_df = pd.concat([\n",
        "    df_import[['Pallet', 'Model code', 'Month','Main S/N']].assign(Status='import'),\n",
        "    df_export[['Pallet', 'Model code', 'Month','Main S/N']].assign(Status='export')\n",
        "])\n",
        "print(temp_df)\n",
        "## Lấy danh sách các tháng từ cả hai bảng\n",
        "months = pd.period_range(start=df_import['Month'].min(), end=df_export['Month'].max(), freq='M')\n",
        "print(months)\n",
        "## Tính toán số lượng pallet đang được sử dụng đựng hàng nhập cho mỗi tháng\n",
        "pallet_quantity = [\n",
        "    temp_df[temp_df['Month'] <= month].query(\"Status == 'import'\")['Pallet'].nunique()\n",
        "    for month in months\n",
        "]\n",
        "## Tạo DataFrame kết quả\n",
        "df_pallet = pd.DataFrame({\n",
        "    'Date': months.to_timestamp(),\n",
        "    'Pallet quantity': pallet_quantity\n",
        "})"
      ],
      "metadata": {
        "id": "hxEdmAymvuy0"
      },
      "execution_count": null,
      "outputs": []
    },
    {
      "cell_type": "markdown",
      "source": [
        "**CALCULATE THE QUANTITY OF GOODS IN AND OUT OF STOCK ON A MONTHLY CYCLE**"
      ],
      "metadata": {
        "id": "_ptcAm7ZwHQL"
      }
    },
    {
      "cell_type": "code",
      "source": [
        "## #Số lượng hàng nhập mỗi tháng\n",
        "df_im_quantity = df_import.groupby([pd.Grouper(key='Import date', freq='M'),'Model code']).agg(Import_Quantity=('Main S/N', 'count')).reset_index()\n",
        "print(df_im_quantity)\n",
        "\n",
        "## Số lượng hàng xuất mỗi tháng\n",
        "df_ex_quantity = df_export.groupby([pd.Grouper(key='Export date', freq='M'),'Model code']).agg(Export_Quantity=('Main S/N', 'count')).reset_index()\n",
        "print(df_ex_quantity)\n",
        "\n",
        "## Đổi tên cột cho 2 dataframe df_im_quantity và df_ex_quantity\n",
        "df_ex_quantity.rename(columns={\n",
        "    'Export date' : 'Month'\n",
        "},inplace=True)\n",
        "\n",
        "df_im_quantity.rename(columns={\n",
        "    'Import date' : 'Month'\n",
        "},inplace=True)\n",
        "\n",
        "df_inventory = df_im_quantity.set_index('Month').join(df_ex_quantity.set_index('Month'),lsuffix='_im',rsuffix='_ex').reset_index()\n",
        "import_date = df_inventory['Import date']\n",
        "\n",
        "## Tạo 1 list có 20 phần tử\n",
        "import numpy as np\n",
        "my_list = np.random.random(20)\n",
        "inventory = list([0] * len(my_list))\n",
        "\n",
        "#Tạo hàm cho các biến cần thiết\n",
        "def import_qty_list(df):\n",
        "  import_qty = []\n",
        "  for i in range(len(my_list)):\n",
        "    im_qty = df_inventory['Import_Quantity'][i]\n",
        "    import_qty.append(im_qty)\n",
        "  return import_qty\n",
        "\n",
        "def export_qty_list(df):\n",
        "  export_qty = []\n",
        "  for i in range(len(my_list)):\n",
        "    ex_qty = df_inventory['Export_Quantity'][i]\n",
        "    export_qty.append(ex_qty)\n",
        "  return export_qty\n",
        "#Tìm lượng hàng tồn kho cuối kỳ (tháng): Tồn đầu kỳ + Nhập trong kỳ - Xuất trong kỳ\n",
        "def calculate_inventory(row = pd.DataFrame()):\n",
        "    import_qty = import_qty_list(row)\n",
        "    export_qty = export_qty_list(row)\n",
        "    inventory = list([0] * len(my_list))  # Khởi tạo danh sách lượng tồn ban đầu\n",
        "    for i in range(len(my_list)):\n",
        "        if i == 0:\n",
        "            inventory[i] = import_qty[i] - export_qty[i]\n",
        "        else:\n",
        "            inventory[i] = inventory[i - 1] + import_qty[i] - export_qty[i]\n",
        "    return inventory\n",
        "\n",
        "# Áp dụng hàm tính toán lượng tồn cho dataframe df_inventory\n",
        "df_inventory['Inventory'] = df_inventory.apply(calculate_inventory,axis=1)\n",
        "final_list = df_inventory['Inventory'][0]\n",
        "print(final_list)\n",
        "#Thêm cột 'Inventory' vào dataframe df_inventory\n",
        "df_inventory['Inventory'] = final_list"
      ],
      "metadata": {
        "id": "fVurjyM0wSpv"
      },
      "execution_count": null,
      "outputs": []
    },
    {
      "cell_type": "markdown",
      "source": [
        "**CALCULATE THE AVERAGE STORAGE TIME FOR EACH PRODUCT LINE**"
      ],
      "metadata": {
        "id": "yIDwhPIEwXsP"
      }
    },
    {
      "cell_type": "code",
      "source": [
        "# Assuming 'merged_import' and 'merged_export' are your import and export DataFrames\n",
        "# and they include 'General name', 'Type', 'Import date', and 'Export date' columns.\n",
        "\n",
        "# Convert dates to datetime if not already\n",
        "merged_import['Import_date'] = pd.to_datetime(merged_import['Import_date'])\n",
        "merged_export['Export date'] = pd.to_datetime(merged_export['Export date'])\n",
        "\n",
        "# Merge the import and export data on 'Model code', 'General name', and 'Type'\n",
        "merged_data = pd.merge(merged_import, merged_export, on=['Model code', 'General name', 'Type'], suffixes=('_imp', '_exp'))\n",
        "\n",
        "# Calculate the storage duration for each item\n",
        "merged_data['Storage Duration'] = (merged_data['Export date'] - merged_data['Import_date']).dt.days\n",
        "\n",
        "# Convert 'Storage Duration' to integer\n",
        "merged_data['Storage Duration'] = merged_data['Storage Duration'].astype(int)\n",
        "\n",
        "# Aggregate to find the average storage duration by 'General name' and 'Type'\n",
        "storage_duration = merged_data.groupby(['General name', 'Type'])['Storage Duration'].mean().reset_index()\n",
        "\n",
        "# Convert the average storage duration to integer\n",
        "storage_duration['Storage Duration'] = storage_duration['Storage Duration'].astype(int)\n",
        "\n",
        "# Rename columns for clarity\n",
        "storage_duration.rename(columns={'Storage Duration': 'Average Storage Duration (days)'}, inplace=True)"
      ],
      "metadata": {
        "id": "6SSAG0WewdwF"
      },
      "execution_count": null,
      "outputs": []
    }
  ]
}
