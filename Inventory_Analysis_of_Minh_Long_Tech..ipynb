import pandas as pd
import numpy as np
from collections import Counter

# Xử lý df_product
df_product = (
    pd.read_csv('Product.csv', encoding='ISO-8859-1', header=None)
    .drop(index=[0, 1])
    .reset_index(drop=True)
)
df_product.columns = df_product.iloc[0]
df_product = (
    df_product[1:]
    .rename(columns={'Code': 'Model code'})
    .iloc[:, 1:10]
    .drop(columns=['Full designation', 'Nick designation', 'Quantity'])  # Xóa cột Quantity
    .replace({'Vi?t Nam': 'Vietnam','GearBox':'Gearbox'})
)

# Xử lý df_import
df_import = (
    pd.read_csv('Import.csv', encoding='ISO-8859-1')
    .rename(columns={
        'Ngày nh?p': 'Import date',
        ' Main S/N': 'Main S/N',
        'Tên pallet': 'Pallet'
    })
    .drop(columns=['STT', 'PO', 'Ngày xu?t', 'Position', 'Model', 'Second S/N', 'COC', 'Status', 'NOTE'])
    .replace({
        'Vãn ph?ng': 'Văn phòng',
        '? Ngoài': 'Ở ngoài'
    })
    .assign(
        Import_date=lambda x: pd.to_datetime('1899-12-30') + pd.to_timedelta(x['Import date'], unit='D')
    )
    .reset_index(drop=True)
)
df_import.index += 1
df_import.drop(columns=['Import date'], inplace=True)

# Xử lý df_export
df_export = (
    pd.read_csv('Export.csv', encoding='utf-8')
    .dropna(subset=['STT'])
    .rename(columns={
        'Phiếu xuất kho': 'Export ID',
        'Ngày xuất kho': 'Export date',
        'Khách hàng': 'Customer',
        'Mã sản phẩm': 'Model code',
        'Tên pallet': 'Pallet',
        'S/N': 'Main S/N'
    })
    .drop(columns=['STT', 'Hợp đồng (PO)', 'Tên sản phẩm', 'Ngày hết hạn bảo hành', 'Status', 'Ghi chú'])
)

df_export['Export date'] = pd.to_datetime(df_export['Export date'])
#Check null
#df_product.isnull().sum() #Type 6, Manufactory 61, Origin 42
#df_import.isnull().sum() #Main S/N 810
#df_export.isnull().sum() #Model code 34, Main S/N 5, Pallet 34

# Xử lý giá trị thiếu cho df_product
## Điền giá trị thiếu cho cột Type
type_dict = df_product.groupby('General name')['Type'].apply(lambda x: x.mode().iloc[0] if not x.mode().empty else None).to_dict()

def fill_type(row):
    if pd.isna(row['Type']):
        general_name = row['General name']
        size_first_letter = row['Size'][0]
        same_general_name = df_product[df_product['General name'] == general_name]
        same_size_letter = same_general_name[same_general_name['Size'].str.startswith(size_first_letter)]
        if same_size_letter.empty:
            return type_dict.get(general_name, None)
        elif same_size_letter['Type'].isna().all():
            type_counts = Counter(same_general_name['Type'].dropna())
            for type_name, _ in type_counts.most_common():
                if type_name not in same_size_letter['Type'].values:
                    return type_name
        else:
            return same_size_letter['Type'].mode().iloc[0]
    return row['Type']

df_product['Type'] = df_product.apply(fill_type, axis=1)

## Điền giá trị thiếu cho cột Manufactory
def fill_manufactory(row):
    if pd.isna(row['Manufactory']):
        same_general_type = df_product[(df_product['General name'] == row['General name']) & (df_product['Type'] == row['Type'])]
        same_size_initial = same_general_type[same_general_type['Size'].str.startswith(row['Size'][0])]
        if not same_size_initial['Manufactory'].isna().all():
            return same_size_initial['Manufactory'].dropna().iloc[0]
        manufactory_counts = same_general_type['Manufactory'].value_counts(normalize=True)
        if not manufactory_counts.empty:
            return manufactory_counts.idxmax()
        same_general = df_product[df_product['General name'] == row['General name']]
        manufactory_counts_general = same_general['Manufactory'].value_counts(normalize=True)
        if not manufactory_counts_general.empty:
            return manufactory_counts_general.idxmax()
        return 'Unknown'
    return row['Manufactory']

df_product['Manufactory'] = df_product.apply(fill_manufactory, axis=1)

## Điền giá trị thiếu cho cột Origin
origin_counts = df_product['Origin'].value_counts()
total_count = len(df_product)
missing_count = df_product['Origin'].isna().sum()
fill_counts = (origin_counts / total_count * missing_count).round().astype(int)

while fill_counts.sum() != missing_count:
    diff = missing_count - fill_counts.sum()
    if diff > 0:
        fill_counts[fill_counts.idxmax()] += 1
    else:
        fill_counts[fill_counts.idxmin()] -= 1

fill_values = [origin for origin, count in fill_counts.items() for _ in range(count)]
missing_indices = df_product[df_product['Origin'].isna()].index
df_product.loc[missing_indices, 'Origin'] = fill_values

# Xử lý giá trị thiếu cho df_import
temp_counter = df_import['Model code'].value_counts().to_dict()

def generate_temp_sn(row):
    if pd.isna(row['Main S/N']):
        model_code = row['Model code']
        temp_counter[model_code] += 1
        return f"{model_code}_TEMP_{temp_counter[model_code]}"
    else:
        return row['Main S/N']

df_import['Main S/N'] = df_import.apply(generate_temp_sn, axis=1)

# Xử lý giá trị thiếu cho df_export
df_export.dropna(subset=['Main S/N', 'Model code', 'Pallet'], inplace=True)
df_export.drop_duplicates(inplace=True)
